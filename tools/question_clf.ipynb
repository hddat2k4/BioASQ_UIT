{
 "cells": [
  {
   "cell_type": "code",
   "execution_count": 70,
   "id": "56ed380a",
   "metadata": {},
   "outputs": [],
   "source": [
    "import pandas as pd\n",
    "from sklearn.preprocessing import LabelEncoder\n",
    "from datasets import Dataset\n",
    "from transformers import AutoTokenizer, AutoModelForSequenceClassification, TrainingArguments, Trainer\n",
    "from transformers import DataCollatorWithPadding, set_seed\n",
    "import torch, json, os"
   ]
  },
  {
   "cell_type": "code",
   "execution_count": 71,
   "id": "1a05429a",
   "metadata": {},
   "outputs": [],
   "source": [
    "path = \"./data/training13b.json\""
   ]
  },
  {
   "cell_type": "code",
   "execution_count": 72,
   "id": "bf128136",
   "metadata": {},
   "outputs": [],
   "source": [
    "with open(path, \"r\", encoding=\"utf-8\") as f:\n",
    "    data = json.load(f)\n",
    "\n",
    "# Trích thông tin từ từng câu hỏi\n",
    "samples = []\n",
    "for q in data[\"questions\"]:\n",
    "    q_body = q[\"body\"].strip()\n",
    "    q_type = q[\"type\"].strip().lower()  # yesno / factoid / list / summary\n",
    "    samples.append({\"question\": q_body, \"type\": q_type})\n",
    "\n",
    "# Tạo DataFrame\n",
    "# df = pd.DataFrame(samples)\n",
    "# df.to_csv('./data/ques_type.csv')"
   ]
  },
  {
   "cell_type": "code",
   "execution_count": 73,
   "id": "3a3c8148",
   "metadata": {},
   "outputs": [
    {
     "name": "stdout",
     "output_type": "stream",
     "text": [
      "d:\\Github\\BioASQ\n"
     ]
    }
   ],
   "source": [
    "print(os.getcwd())"
   ]
  },
  {
   "cell_type": "code",
   "execution_count": 74,
   "id": "4497421a",
   "metadata": {},
   "outputs": [],
   "source": [
    "dir = 'data'\n",
    "for i in range(1,3):\n",
    "    file = f'BioASQ-task13bPhaseB-testset{i}.json'\n",
    "    path = os.path.join(dir, file)\n",
    "\n",
    "    with open(path, \"r\", encoding=\"utf-8\") as f:\n",
    "        data = json.load(f)\n",
    "\n",
    "    for q in data.get(\"questions\", []):\n",
    "        q_body = q.get(\"body\", \"\").strip()\n",
    "        q_type = q.get(\"type\", \"\").strip().lower()\n",
    "\n",
    "        # Chỉ lấy 4 loại hợp lệ\n",
    "        if q_type in {\"yesno\", \"factoid\", \"list\", \"summary\"} and q_body:\n",
    "            samples.append({\"question\": q_body, \"type\": q_type})\n"
   ]
  },
  {
   "cell_type": "code",
   "execution_count": 75,
   "id": "6fcd0e0e",
   "metadata": {},
   "outputs": [],
   "source": [
    "df = pd.DataFrame(samples)"
   ]
  },
  {
   "cell_type": "code",
   "execution_count": 83,
   "id": "b224a53a",
   "metadata": {},
   "outputs": [],
   "source": [
    "df.to_csv('data/train.csv')"
   ]
  },
  {
   "cell_type": "code",
   "execution_count": 76,
   "id": "ea8ec679",
   "metadata": {},
   "outputs": [],
   "source": [
    "le = LabelEncoder()\n",
    "df[\"label\"] = le.fit_transform(df[\"type\"]) "
   ]
  },
  {
   "cell_type": "code",
   "execution_count": 77,
   "id": "266fcefc",
   "metadata": {},
   "outputs": [],
   "source": [
    "dataset = Dataset.from_pandas(df[[\"question\", \"label\"]])\n",
    "\n",
    "# 4. Train-test split\n",
    "dataset = dataset.train_test_split(test_size=0.2, seed=42)\n",
    "train_ds = dataset[\"train\"]\n",
    "val_ds = dataset[\"test\"]\n",
    "\n",
    "\n"
   ]
  },
  {
   "cell_type": "code",
   "execution_count": 78,
   "id": "da37b91b",
   "metadata": {},
   "outputs": [],
   "source": [
    "model_name = \"microsoft/BiomedNLP-PubMedBERT-base-uncased-abstract\" # Hoặc thử \n",
    "\n",
    "tokenizer = AutoTokenizer.from_pretrained(model_name)\n",
    "\n",
    "def tokenize(example):\n",
    "    return tokenizer(example[\"question\"], truncation=True)"
   ]
  },
  {
   "cell_type": "code",
   "execution_count": 79,
   "id": "cb5eddfd",
   "metadata": {},
   "outputs": [
    {
     "name": "stderr",
     "output_type": "stream",
     "text": [
      "Map:   0%|          | 0/4447 [00:00<?, ? examples/s]Asking to truncate to max_length but no maximum length is provided and the model has no predefined maximum length. Default to no truncation.\n",
      "Map: 100%|██████████| 4447/4447 [00:01<00:00, 4263.88 examples/s]\n",
      "Map: 100%|██████████| 1112/1112 [00:00<00:00, 3454.51 examples/s]\n",
      "Some weights of BertForSequenceClassification were not initialized from the model checkpoint at microsoft/BiomedNLP-PubMedBERT-base-uncased-abstract and are newly initialized: ['classifier.bias', 'classifier.weight']\n",
      "You should probably TRAIN this model on a down-stream task to be able to use it for predictions and inference.\n"
     ]
    }
   ],
   "source": [
    "train_ds = train_ds.map(tokenize)\n",
    "val_ds = val_ds.map(tokenize)\n",
    "\n",
    "# 6. Load model\n",
    "num_labels = len(le.classes_)\n",
    "model = AutoModelForSequenceClassification.from_pretrained(model_name, num_labels=num_labels)\n"
   ]
  },
  {
   "cell_type": "code",
   "execution_count": null,
   "id": "2fb67fe7",
   "metadata": {},
   "outputs": [
    {
     "name": "stderr",
     "output_type": "stream",
     "text": [
      "Some weights of BertForSequenceClassification were not initialized from the model checkpoint at microsoft/BiomedNLP-PubMedBERT-base-uncased-abstract and are newly initialized: ['classifier.bias', 'classifier.weight']\n",
      "You should probably TRAIN this model on a down-stream task to be able to use it for predictions and inference.\n",
      "c:\\Python310\\lib\\site-packages\\transformers\\training_args.py:1611: FutureWarning: `evaluation_strategy` is deprecated and will be removed in version 4.46 of 🤗 Transformers. Use `eval_strategy` instead\n",
      "  warnings.warn(\n"
     ]
    }
   ],
   "source": [
    "num_labels = len(le.classes_)\n",
    "model = AutoModelForSequenceClassification.from_pretrained(model_name, num_labels=num_labels)\n",
    "# device = 'cuda' if torch.cuda.is_available() else 'cpu'\n",
    "# model = model.to(device)\n",
    "\n",
    "\n",
    "\n",
    "training_args = TrainingArguments(\n",
    "    output_dir=\"./question_type_classifier\",          # Nơi lưu model\n",
    "    evaluation_strategy=\"epoch\",                     # Đánh giá sau mỗi epoch\n",
    "    save_strategy=\"epoch\",                           # Lưu checkpoint sau mỗi epoch\n",
    "    logging_strategy=\"steps\",                        # Ghi log mỗi X step\n",
    "    logging_steps=20,                                # Ghi log mỗi 20 bước\n",
    "    learning_rate=1e-5,                              # Nhỏ hơn mặc định để tránh overshooting\n",
    "    per_device_train_batch_size=16,\n",
    "    per_device_eval_batch_size=32,\n",
    "    num_train_epochs=3,                              # Tăng nhẹ nếu không overfit\n",
    "    weight_decay=0.01,                               # Regularization\n",
    "    load_best_model_at_end=True,                     # Tự động dùng model tốt nhất\n",
    "    metric_for_best_model=\"accuracy\",                # Chọn model theo accuracy\n",
    "    save_total_limit=2,                              # Giới hạn số checkpoint\n",
    "    lr_scheduler_type=\"linear\",                      # LR giảm dần theo bước\n",
    "    warmup_ratio=0.1,                                # Warmup giúp ổn định khi train\n",
    "    report_to=\"none\",                                # Không log ra wandb nếu không cần\n",
    "    seed=42,                                         # Reproducible\n",
    "    push_to_hub=False                                # Không upload lên HuggingFace Hub\n",
    ")\n",
    "\n",
    "\n",
    "def compute_metrics(eval_pred):\n",
    "    from sklearn.metrics import accuracy_score, classification_report\n",
    "    logits, labels = eval_pred\n",
    "    preds = torch.argmax(torch.tensor(logits), dim=-1)\n",
    "    acc = accuracy_score(labels, preds)\n",
    "    return {\"accuracy\": acc}\n"
   ]
  },
  {
   "cell_type": "code",
   "execution_count": 81,
   "id": "5873fcda",
   "metadata": {},
   "outputs": [
    {
     "name": "stderr",
     "output_type": "stream",
     "text": [
      "C:\\Users\\danhd\\AppData\\Local\\Temp\\ipykernel_6512\\3818255476.py:4: FutureWarning: `tokenizer` is deprecated and will be removed in version 5.0.0 for `Trainer.__init__`. Use `processing_class` instead.\n",
      "  trainer = Trainer(\n"
     ]
    }
   ],
   "source": [
    "from transformers import EarlyStoppingCallback\n",
    "\n",
    "\n",
    "trainer = Trainer(\n",
    "    model=model,\n",
    "    args=training_args,\n",
    "    train_dataset=train_ds,\n",
    "    eval_dataset=val_ds,\n",
    "    tokenizer=tokenizer,\n",
    "    data_collator=DataCollatorWithPadding(tokenizer),\n",
    "    compute_metrics=compute_metrics,\n",
    "    callbacks=[EarlyStoppingCallback(early_stopping_patience=2)]\n",
    ")"
   ]
  },
  {
   "cell_type": "code",
   "execution_count": 82,
   "id": "98bdb3d9",
   "metadata": {},
   "outputs": [
    {
     "data": {
      "text/html": [
       "\n",
       "    <div>\n",
       "      \n",
       "      <progress value='1390' max='2224' style='width:300px; height:20px; vertical-align: middle;'></progress>\n",
       "      [1390/2224 03:21 < 02:00, 6.90 it/s, Epoch 5/8]\n",
       "    </div>\n",
       "    <table border=\"1\" class=\"dataframe\">\n",
       "  <thead>\n",
       " <tr style=\"text-align: left;\">\n",
       "      <th>Epoch</th>\n",
       "      <th>Training Loss</th>\n",
       "      <th>Validation Loss</th>\n",
       "      <th>Accuracy</th>\n",
       "    </tr>\n",
       "  </thead>\n",
       "  <tbody>\n",
       "    <tr>\n",
       "      <td>1</td>\n",
       "      <td>0.435000</td>\n",
       "      <td>0.405452</td>\n",
       "      <td>0.875899</td>\n",
       "    </tr>\n",
       "    <tr>\n",
       "      <td>2</td>\n",
       "      <td>0.338700</td>\n",
       "      <td>0.344557</td>\n",
       "      <td>0.883993</td>\n",
       "    </tr>\n",
       "    <tr>\n",
       "      <td>3</td>\n",
       "      <td>0.256900</td>\n",
       "      <td>0.351102</td>\n",
       "      <td>0.889388</td>\n",
       "    </tr>\n",
       "    <tr>\n",
       "      <td>4</td>\n",
       "      <td>0.192100</td>\n",
       "      <td>0.411003</td>\n",
       "      <td>0.887590</td>\n",
       "    </tr>\n",
       "    <tr>\n",
       "      <td>5</td>\n",
       "      <td>0.240500</td>\n",
       "      <td>0.483383</td>\n",
       "      <td>0.881295</td>\n",
       "    </tr>\n",
       "  </tbody>\n",
       "</table><p>"
      ],
      "text/plain": [
       "<IPython.core.display.HTML object>"
      ]
     },
     "metadata": {},
     "output_type": "display_data"
    },
    {
     "data": {
      "text/plain": [
       "TrainOutput(global_step=1390, training_loss=0.3845905935163978, metrics={'train_runtime': 201.2753, 'train_samples_per_second': 176.753, 'train_steps_per_second': 11.05, 'total_flos': 266095360746384.0, 'train_loss': 0.3845905935163978, 'epoch': 5.0})"
      ]
     },
     "execution_count": 82,
     "metadata": {},
     "output_type": "execute_result"
    }
   ],
   "source": [
    "trainer.train()"
   ]
  },
  {
   "cell_type": "code",
   "execution_count": null,
   "id": "351e4760",
   "metadata": {},
   "outputs": [],
   "source": [
    "from sklearn.metrics import confusion_matrix, ConfusionMatrixDisplay\n",
    "y_true = val_ds[\"label\"]\n",
    "y_pred = trainer.predict(val_ds).predictions.argmax(axis=-1)\n",
    "ConfusionMatrixDisplay.from_predictions(y_true, y_pred, display_labels=le.classes_)"
   ]
  },
  {
   "cell_type": "code",
   "execution_count": null,
   "id": "1c877092",
   "metadata": {},
   "outputs": [],
   "source": [
    "from sklearn.metrics import classification_report\n",
    "print(classification_report(y_true, y_pred, target_names=le.classes_))\n"
   ]
  }
 ],
 "metadata": {
  "kernelspec": {
   "display_name": "Python 3",
   "language": "python",
   "name": "python3"
  },
  "language_info": {
   "codemirror_mode": {
    "name": "ipython",
    "version": 3
   },
   "file_extension": ".py",
   "mimetype": "text/x-python",
   "name": "python",
   "nbconvert_exporter": "python",
   "pygments_lexer": "ipython3",
   "version": "3.10.0"
  }
 },
 "nbformat": 4,
 "nbformat_minor": 5
}
